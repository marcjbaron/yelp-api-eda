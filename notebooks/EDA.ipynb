{
 "cells": [
  {
   "cell_type": "code",
   "execution_count": 12,
   "metadata": {},
   "outputs": [],
   "source": [
    "# imports\n",
    "import pandas as pd\n",
    "import requests\n",
    "import os\n",
    "import numpy as np"
   ]
  },
  {
   "cell_type": "code",
   "execution_count": 13,
   "metadata": {},
   "outputs": [],
   "source": [
    "#Necessary functions:\n",
    "\n",
    "def get_json(url, headers_dict, params_dict):\n",
    "    '''Prints status code of url and gets json file'''\n",
    "    res = requests.get(url, headers = headers_dict, params = params_dict)\n",
    "    print(f\"The status code is {res.status_code}.\")\n",
    "    return res.json()\n"
   ]
  },
  {
   "cell_type": "markdown",
   "metadata": {},
   "source": [
    "# Foursquare"
   ]
  },
  {
   "cell_type": "markdown",
   "metadata": {},
   "source": [
    "Send a request to Foursquare with a small radius (1000m) with the location of your choice"
   ]
  },
  {
   "cell_type": "code",
   "execution_count": 14,
   "metadata": {},
   "outputs": [
    {
     "name": "stdout",
     "output_type": "stream",
     "text": [
      "The status code is 200.\n"
     ]
    }
   ],
   "source": [
    "foursquare_api = os.environ[\"FOURSQUARE_API_KEY\"]\n",
    "\n",
    "url = 'https://api.foursquare.com/v3/places/search'\n",
    "headers_dict = {\n",
    "            'Accept': 'application/JSON',\n",
    "             'Authorization': foursquare_api}\n",
    "\n",
    "location = '43.67,-79.43'\n",
    "rad = 1000 #Radius from location in metres\n",
    "v_date = '20220901' # version data required for Foursquare\n",
    "num_results = 50 # Get this many results\n",
    "params_dict = {'ll': location, 'radius': rad,  'v': v_date, 'limit':num_results}\n",
    "\n",
    "fsq_results = get_json(url, headers_dict, params_dict)\n"
   ]
  },
  {
   "cell_type": "markdown",
   "metadata": {},
   "source": [
    "Parse through the response to get the POI details you want (rating, name, location, etc)"
   ]
  },
  {
   "cell_type": "code",
   "execution_count": 16,
   "metadata": {},
   "outputs": [],
   "source": [
    "def json_info(json_file, dict_key, website):\n",
    "    '''Creates dictionary based on input json file, taken from an API\n",
    "        Works with Yelp, Foursquare, so far\n",
    "        dict_key is a site-specific way information is stored (taken from raw data'''\n",
    "    json_dict = {}\n",
    "    for num, venue in enumerate(json_file[dict_key]):\n",
    "        venue_dict = {}\n",
    "        venue_dict['name'] = venue['name'] #Name venue\n",
    "        \n",
    "        if (website == \"Yelp\"): #Janky solution but idc\n",
    "            venue_dict['rating'] = venue['rating']\n",
    "        #Can have multiple categories, so extract them to a list \n",
    "        categories_dict = {key:value for key, value in venue['categories'][0].items()} #Adds various info from original location key\n",
    "        location_dict = {key:value for key, value in venue['location'].items()} #Adds various info from original location key\n",
    "        venue_dict.update(categories_dict) #append dictionaries\n",
    "        venue_dict.update(location_dict) #append dictionaries\n",
    "\n",
    "        #Cleaning up formatting that is Foursquare specific \n",
    "        if (website == 'Foursquare'):\n",
    "            venue_dict['category'] = categories_dict['name']\n",
    "            venue_dict['fsq_id'] = venue['fsq_id']\n",
    "            venue_dict['name'] = venue['name'] #Name venue again, bc Foursquare overwrites the name from the 'categories' menu\n",
    "            del venue_dict['icon']\n",
    "            ###\n",
    "        if (website == 'Yelp'):\n",
    "            venue_dict['display_address'] = venue_dict['display_address'][0]\n",
    "\n",
    "        json_dict[f'venue_{num+1}'] = venue_dict\n",
    "    \n",
    "    return json_dict        \n",
    "\n"
   ]
  },
  {
   "cell_type": "code",
   "execution_count": 17,
   "metadata": {},
   "outputs": [],
   "source": [
    "#So passing a string directly toa  function is bad. But save it to a variable and pass the variable is good\n",
    "location_key_name = 'results'\n",
    "website = 'Foursquare'\n",
    "fsq_data = json_info(fsq_results, location_key_name, website )\n"
   ]
  },
  {
   "cell_type": "markdown",
   "metadata": {},
   "source": [
    "Put your parsed results into a DataFrame"
   ]
  },
  {
   "cell_type": "code",
   "execution_count": 57,
   "metadata": {},
   "outputs": [],
   "source": [
    "fsq_df = pd.DataFrame.from_dict(fsq_data, orient = 'index')\n",
    "\n",
    "##### Temporary solution: just delete the stupid column\n",
    "fsq_df.drop('neighborhood', axis=1, inplace=True)\n",
    "# fsq_df['street'] = fsq_df['address'].map(lambda x: x.lstrip('0123456789 '))\n",
    "# fsq_df['neighborhood'] = fsq_df['neighborhood'][0] \n",
    "# fsq_df['neighborhood'].astype('|S')\n",
    "\n",
    "####Uncomment this to see dataframe\n",
    "# fsq_df"
   ]
  },
  {
   "cell_type": "code",
   "execution_count": 19,
   "metadata": {},
   "outputs": [
    {
     "name": "stdout",
     "output_type": "stream",
     "text": [
      "The status code is 200.\n"
     ]
    }
   ],
   "source": [
    "#Now we need to search for Foursquare 'tips' or whatever the hell\n",
    "# url = f'https://api.foursquare.com/v3/places/{venue_id}/tips'\n",
    "url = 'https://api.foursquare.com/v3/places/568333d5498e400ae0f1a732/tips'\n",
    "headers_dict = {\n",
    "            'Accept': 'application/JSON',\n",
    "             'Authorization': foursquare_api}\n",
    "\n",
    "params_dict = {'limit': 50}\n",
    "\n",
    "fsq_tips_results = get_json(url, headers_dict, params_dict)\n",
    "\n",
    "def json_fsq_tips(json_file) :\n",
    "    '''Creates dictionary based on Foursquare json file, taken from tips API'''\n",
    "    json_dict = {}\n",
    "    for num, venue in enumerate(json_file):\n",
    "        \n",
    "        venue_dict = {key:value for key, value in venue.items()} #Adds various info from original location key\n",
    "       \n",
    "        json_dict[f'review_{num+1}'] = venue_dict\n",
    "    \n",
    "    return json_dict        \n",
    "\n",
    "fsq_tips_json = json_fsq_tips(fsq_tips_results)\n",
    "\n",
    "tips_df = pd.DataFrame.from_dict(fsq_tips_json, orient = 'index')\n",
    "\n",
    "# tips_df.loc['review_5', 'text']\n",
    "\n",
    "\n"
   ]
  },
  {
   "cell_type": "markdown",
   "metadata": {},
   "source": [
    "# Yelp"
   ]
  },
  {
   "cell_type": "markdown",
   "metadata": {},
   "source": [
    "Send a request with the same location paramaters (location, radius, etc)"
   ]
  },
  {
   "cell_type": "code",
   "execution_count": 20,
   "metadata": {},
   "outputs": [
    {
     "name": "stdout",
     "output_type": "stream",
     "text": [
      "The status code is 200.\n"
     ]
    }
   ],
   "source": [
    "yelp_api = os.environ[\"YELP_API_KEY\"]\n",
    "url = 'https://api.yelp.com/v3/businesses/search' \n",
    "headers_dict = {\n",
    "            'Accept': 'application/JSON',\n",
    "             'Authorization': f'Bearer {yelp_api}'\n",
    "             }\n",
    "\n",
    "lat = '43.67' \n",
    "long = '-79.43'\n",
    "rad = 2000 #Radius from location in metres\n",
    "v_date = '20220901' # version data required for Foursquare\n",
    "num_results = 50 # Number of search results to display\n",
    "params_dict = {'latitude': lat, 'longitude': long, 'radius': rad, 'limit': num_results}\n",
    "\n",
    "yelp_results = get_json(url, headers_dict, params_dict)"
   ]
  },
  {
   "cell_type": "markdown",
   "metadata": {},
   "source": [
    "Parse through your result and get POI details"
   ]
  },
  {
   "cell_type": "code",
   "execution_count": 58,
   "metadata": {},
   "outputs": [],
   "source": [
    "website = 'Yelp'\n",
    "location_key_name = 'businesses'\n",
    "yelp_data = json_info(yelp_results, location_key_name, website)\n",
    "# print(yelp_data['venue_1'])\n"
   ]
  },
  {
   "cell_type": "markdown",
   "metadata": {},
   "source": [
    "Put your parsed results into a DataFrame"
   ]
  },
  {
   "cell_type": "code",
   "execution_count": 60,
   "metadata": {},
   "outputs": [],
   "source": [
    "yelp_df = pd.DataFrame.from_dict(yelp_data, orient = 'index')\n",
    "\n",
    "#Find street the business is on\n",
    "yelp_df['street'] = yelp_df['display_address'].map(lambda x: x.lstrip('0123456789 '))\n",
    "\n",
    "####getting rid of nan in neighborhood?\n",
    "\n",
    "#df2 = df.astype(object).where(pd.notnull(df), None)\n",
    "\n",
    "##Uncomment this to see dataframe\n",
    "# yelp_df"
   ]
  },
  {
   "cell_type": "markdown",
   "metadata": {},
   "source": [
    "# Google (stretch)"
   ]
  },
  {
   "cell_type": "markdown",
   "metadata": {},
   "source": [
    "Use the same process as the first two APIs"
   ]
  },
  {
   "cell_type": "code",
   "execution_count": 63,
   "metadata": {},
   "outputs": [],
   "source": [
    "google_api = os.environ[\"GOOGLE_API_KEY\"]\n",
    "url = 'https://maps.googleapis.com/maps/api/directions' \n",
    "headers_dict = {\n",
    "            'Accept': 'application/JSON'}\n",
    "\n",
    "# lat = '43.67' \n",
    "# long = '-79.43'\n",
    "# rad = 1000 #Radius from location in metres\n",
    "# v_date = '20220901' # version data required for Foursquare\n",
    "# num_results = 50 # Number of search results to display\n",
    "# params_dict = {'latitude': lat, 'longitude': long, 'radius': rad, 'limit': num_results}\n",
    "\n",
    "\n",
    "params_dict = {'key': google_api}\n",
    "\n",
    "# yelp_results = get_json(url, headers_dict, params_dict)"
   ]
  },
  {
   "cell_type": "markdown",
   "metadata": {},
   "source": [
    "# Database"
   ]
  },
  {
   "cell_type": "markdown",
   "metadata": {},
   "source": [
    "Put all your results in an SQLite3 database (remember, SQLite stores its databases as files in your local machine - make sure to create your database in your project's data/ directory!)"
   ]
  },
  {
   "cell_type": "code",
   "execution_count": 46,
   "metadata": {},
   "outputs": [
    {
     "name": "stdout",
     "output_type": "stream",
     "text": [
      "Connection to SQLite DB successful\n",
      "The error 'no such table: fsq_sql' occurred\n",
      "The error 'no such table: yelp_sql' occurred\n"
     ]
    },
    {
     "data": {
      "text/plain": [
       "50"
      ]
     },
     "execution_count": 46,
     "metadata": {},
     "output_type": "execute_result"
    }
   ],
   "source": [
    "import sqlite3\n",
    "from sqlite3 import Error\n",
    "\n",
    "def create_connection(path):\n",
    "    connection = None\n",
    "\n",
    "    try:\n",
    "        connection = sqlite3.connect(path)\n",
    "        print(\"Connection to SQLite DB successful\")\n",
    "    except Error as e:\n",
    "        print(f\"The error '{e}' occured.\")\n",
    "\n",
    "    return connection\n",
    "\n",
    "def execute_query(connection, query):\n",
    "    cursor = connection.cursor()\n",
    "    try:\n",
    "        cursor.execute(query)\n",
    "        connection.commit()\n",
    "        print(\"Query executed successfully\")\n",
    "    except Error as e:\n",
    "        print(f\"The error '{e}' occurred\")\n",
    "\n",
    "def execute_read_query(connection, query):\n",
    "    cursor = connection.cursor()\n",
    "    result = None\n",
    "    try:\n",
    "        cursor.execute(query)\n",
    "        result = cursor.fetchall()\n",
    "        return result\n",
    "    except Error as e:\n",
    "        print(f\"The error '{e}' occurred\")\n",
    "\n",
    "\n",
    "connection = create_connection(\"poi.db\")\n",
    "\n",
    "\n",
    "##Do this to delete tables so we can start fresh (if we need to)\n",
    "drop_table = 'DROP TABLE fsq_sql'\n",
    "execute_query(connection, drop_table)\n",
    "drop_table = 'DROP TABLE yelp_sql'\n",
    "execute_query(connection, drop_table)\n",
    "\n",
    "fsq_df.to_sql(name='fsq_sql', con = connection)\n",
    "yelp_df.to_sql(name='yelp_sql', con = connection)\n",
    "\n",
    "##Add tables to sql, then merge"
   ]
  },
  {
   "cell_type": "markdown",
   "metadata": {},
   "source": [
    "Get the top 10 restaurants according to their rating"
   ]
  },
  {
   "cell_type": "code",
   "execution_count": 47,
   "metadata": {},
   "outputs": [
    {
     "name": "stdout",
     "output_type": "stream",
     "text": [
      "('La Bella Managua', 4.5)\n",
      "('Hodo Kwaja', 4.5)\n",
      "('Sugo', 4.5)\n",
      "('Famiglia Baldassarre', 4.5)\n",
      "('Ramen Isshin', 4.5)\n",
      "('Rustle & Still Café', 4.5)\n",
      "('Bar Ape', 4.5)\n",
      "('Good Behaviour', 4.5)\n",
      "(\"Kevin's Taiyaki\", 4.5)\n",
      "('Jin Dal Lae', 4.5)\n"
     ]
    }
   ],
   "source": [
    "select = 'SELECT name, rating FROM yelp_sql \\\n",
    "          ORDER BY rating DESC \\\n",
    "          LIMIT 10;'\n",
    "\n",
    "tempy = execute_read_query(connection, select)\n",
    "for temp in tempy:\n",
    "    print(temp)"
   ]
  },
  {
   "cell_type": "markdown",
   "metadata": {},
   "source": [
    "Find type of local restaurants"
   ]
  },
  {
   "cell_type": "code",
   "execution_count": 48,
   "metadata": {},
   "outputs": [
    {
     "name": "stdout",
     "output_type": "stream",
     "text": [
      "('Bakery', 5)\n",
      "('Bar', 4)\n",
      "('Tattoo Parlor', 3)\n",
      "('Park', 2)\n",
      "('Laundry Service', 2)\n",
      "('Interior Designer', 2)\n",
      "('Grocery Store / Supermarket', 2)\n",
      "('French Restaurant', 2)\n",
      "('Café', 2)\n",
      "('Storage Facility', 1)\n"
     ]
    }
   ],
   "source": [
    "\n",
    "select = 'SELECT category, COUNT(category) FROM fsq_sql\\\n",
    "          GROUP BY category \\\n",
    "          ORDER BY COUNT(category) DESC \\\n",
    "          LIMIT 10;'\n",
    "\n",
    "tempy = execute_read_query(connection, select)\n",
    "for temp in tempy:\n",
    "    print(temp)"
   ]
  },
  {
   "cell_type": "code",
   "execution_count": 33,
   "metadata": {},
   "outputs": [
    {
     "name": "stdout",
     "output_type": "stream",
     "text": [
      "('korean', 8)\n",
      "('italian', 4)\n",
      "('indpak', 3)\n",
      "('icecream', 3)\n",
      "('desserts', 3)\n",
      "('thai', 2)\n",
      "('newcanadian', 2)\n",
      "('mexican', 2)\n",
      "('japanese', 2)\n",
      "('bakeries', 2)\n"
     ]
    }
   ],
   "source": [
    "#Find types of local businesses\n",
    "select = 'SELECT alias, COUNT(alias) FROM yelp_sql \\\n",
    "          GROUP BY alias \\\n",
    "          ORDER BY COUNT(alias) DESC \\\n",
    "          LIMIT 10;'\n",
    "\n",
    "tempy = execute_read_query(connection, select)\n",
    "for temp in tempy:\n",
    "    print(temp)"
   ]
  },
  {
   "cell_type": "code",
   "execution_count": 50,
   "metadata": {},
   "outputs": [
    {
     "name": "stdout",
     "output_type": "stream",
     "text": [
      "('Bloor Street W', 24)\n",
      "('College Street', 5)\n",
      "('St. Clair Avenue W', 3)\n",
      "('St Clair Avenue W', 3)\n",
      "('Geary Avenue', 2)\n",
      "('Westmoreland Avenue N', 1)\n",
      "('W Bloor Street', 1)\n",
      "('Vaughan Road', 1)\n",
      "('Saint Clair Avenue W', 1)\n",
      "('Rushton Rd', 1)\n"
     ]
    }
   ],
   "source": [
    "##Find most common street of businesses \n",
    "select = 'SELECT street, COUNT(street) FROM yelp_sql \\\n",
    "          GROUP BY street \\\n",
    "          ORDER BY COUNT(street) DESC \\\n",
    "          LIMIT 10;'\n",
    "\n",
    "tempy = execute_read_query(connection, select)\n",
    "for temp in tempy:\n",
    "    print(temp)"
   ]
  },
  {
   "cell_type": "code",
   "execution_count": 56,
   "metadata": {},
   "outputs": [
    {
     "name": "stdout",
     "output_type": "stream",
     "text": [
      "The error 'ambiguous column name: name' occurred\n",
      "('Bakerbots Baking',)\n",
      "('La Bella Managua',)\n",
      "('Famiglia Baldassarre',)\n",
      "('Good Behaviour',)\n",
      "('Actinolite Restaurant',)\n",
      "('Civil Liberties',)\n",
      "('Parallel',)\n",
      "('Tallboys Craft Beer House',)\n"
     ]
    }
   ],
   "source": [
    "#Finding businesses that are in both Foursquare and Yelp queries\n",
    "\n",
    "execute_read_query(connection, select)\n",
    "#Find types of local businesses\n",
    "select = 'SELECT yelp_sql.name FROM yelp_sql \\\n",
    "          INNER JOIN fsq_sql ON yelp_sql.name = fsq_sql.name;'\n",
    "\n",
    "tempy = execute_read_query(connection, select)\n",
    "for temp in tempy:\n",
    "    print(temp)\n"
   ]
  },
  {
   "cell_type": "markdown",
   "metadata": {},
   "source": [
    "# Travelling Salesman Problem (stretch)"
   ]
  },
  {
   "cell_type": "markdown",
   "metadata": {},
   "source": [
    "If you have time, follow the steps in the [ortools tutorial](https://developers.google.com/optimization/routing/tsp) using Google's [Directions API](https://developers.google.com/maps/documentation/directions/start)."
   ]
  },
  {
   "cell_type": "code",
   "execution_count": null,
   "metadata": {},
   "outputs": [],
   "source": []
  }
 ],
 "metadata": {
  "kernelspec": {
   "display_name": "Python 3 (ipykernel)",
   "language": "python",
   "name": "python3"
  },
  "language_info": {
   "codemirror_mode": {
    "name": "ipython",
    "version": 3
   },
   "file_extension": ".py",
   "mimetype": "text/x-python",
   "name": "python",
   "nbconvert_exporter": "python",
   "pygments_lexer": "ipython3",
   "version": "3.9.12"
  },
  "vscode": {
   "interpreter": {
    "hash": "6701a37b50cf3fe420c1c168326b5df267cda9c0faa66bc5c6c8150dd9165b51"
   }
  }
 },
 "nbformat": 4,
 "nbformat_minor": 2
}
